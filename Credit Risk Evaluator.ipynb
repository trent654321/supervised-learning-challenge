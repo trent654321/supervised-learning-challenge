{
 "cells": [
  {
   "cell_type": "code",
   "execution_count": 115,
   "metadata": {},
   "outputs": [],
   "source": [
    "import numpy as np\n",
    "import pandas as pd\n",
    "from pathlib import Path\n",
    "from sklearn.preprocessing import LabelEncoder, StandardScaler"
   ]
  },
  {
   "cell_type": "code",
   "execution_count": 116,
   "metadata": {},
   "outputs": [],
   "source": [
    "train_df = pd.read_csv(Path('Resources/2019loans.csv'))\n",
    "test_df = pd.read_csv(Path('Resources/2020Q1loans.csv'))"
   ]
  },
  {
   "cell_type": "code",
   "execution_count": 117,
   "metadata": {},
   "outputs": [],
   "source": [
    "# Convert categorical data to numeric and separate target feature for training data\n",
    "#drop the unnamed 0 column, the index column, and the loan_status column to make X, and use the loan_status column to make y\n",
    "X_train = train_df.drop(columns=['Unnamed: 0','index','loan_status'])\n",
    "y_train = train_df['loan_status']\n",
    "#Convert the y labels to numbers\n",
    "label_encoder= LabelEncoder()\n",
    "label_encoder.fit(y_train)\n",
    "y_train_label= label_encoder.transform(y_train)\n",
    "X_train_dummies = pd.get_dummies(X_train,drop_first=True)\n"
   ]
  },
  {
   "cell_type": "code",
   "execution_count": 118,
   "metadata": {},
   "outputs": [],
   "source": [
    "# Convert categorical data to numeric and separate target feature for testing data\n",
    "X_test = test_df.drop(columns=['Unnamed: 0','index','loan_status'])\n",
    "y_test = test_df['loan_status']\n",
    "y_test_label= label_encoder.transform(y_test)\n",
    "X_test_dummies=pd.get_dummies(X_test,drop_first=True)"
   ]
  },
  {
   "cell_type": "code",
   "execution_count": 119,
   "metadata": {},
   "outputs": [],
   "source": [
    "# add missing dummy variables to testing set\n",
    "missing_columns = set(X_train_dummies)-set(X_test_dummies)\n",
    "for missing_column in missing_columns:\n",
    "    X_test_dummies[missing_column]=0\n",
    "X_train_dummies, X_test_dummies = X_train_dummies.align(X_test_dummies, axis=1)"
   ]
  },
  {
   "cell_type": "markdown",
   "metadata": {},
   "source": [
    "Prediction of better performance:\n",
    "As per an article from https://www.linkedin.com/pulse/logistic-regression-vs-random-forest-classifier-chintan-chitroda random forests performs better vs linear regression with more categorical data as opposed to numeric data. In this set, it appears only 8 of the columns are caegorical, and the remaining 78 columns are numeric. This would lead me to believe that linear regression will perform better"
   ]
  },
  {
   "cell_type": "code",
   "execution_count": 120,
   "metadata": {},
   "outputs": [
    {
     "name": "stdout",
     "output_type": "stream",
     "text": [
      "The training score is 0.6498357963875205 and the testing score is 0.5157379838366652\n"
     ]
    },
    {
     "name": "stderr",
     "output_type": "stream",
     "text": [
      "/opt/anaconda3/envs/bootcamp/lib/python3.6/site-packages/sklearn/linear_model/_logistic.py:765: ConvergenceWarning: lbfgs failed to converge (status=1):\n",
      "STOP: TOTAL NO. of ITERATIONS REACHED LIMIT.\n",
      "\n",
      "Increase the number of iterations (max_iter) or scale the data as shown in:\n",
      "    https://scikit-learn.org/stable/modules/preprocessing.html\n",
      "Please also refer to the documentation for alternative solver options:\n",
      "    https://scikit-learn.org/stable/modules/linear_model.html#logistic-regression\n",
      "  extra_warning_msg=_LOGISTIC_SOLVER_CONVERGENCE_MSG)\n"
     ]
    }
   ],
   "source": [
    "# Train the Logistic Regression model on the unscaled data and print the model score\n",
    "from sklearn.linear_model import LogisticRegression\n",
    "lr_model = LogisticRegression()\n",
    "lr_model.fit(X_train_dummies,y_train_label)\n",
    "train_score = lr_model.score(X_train_dummies,y_train_label)\n",
    "test_score = lr_model.score(X_test_dummies,y_test_label)\n",
    "print(f'The training score is {train_score} and the testing score is {test_score}')"
   ]
  },
  {
   "cell_type": "code",
   "execution_count": 121,
   "metadata": {},
   "outputs": [
    {
     "name": "stdout",
     "output_type": "stream",
     "text": [
      "The training score is 1.0 and the testing score is 0.6416418545299872\n"
     ]
    }
   ],
   "source": [
    "# Train a Random Forest Classifier model and print the model score\n",
    "from sklearn.ensemble import RandomForestClassifier\n",
    "rf_model = RandomForestClassifier()\n",
    "rf_model.fit(X_train_dummies,y_train_label)\n",
    "train_score = rf_model.score(X_train_dummies,y_train_label)\n",
    "test_score = rf_model.score(X_test_dummies,y_test_label)\n",
    "print(f'The training score is {train_score} and the testing score is {test_score}')"
   ]
  },
  {
   "cell_type": "code",
   "execution_count": 122,
   "metadata": {},
   "outputs": [],
   "source": [
    "# Scale the data\n",
    "scaler = StandardScaler()\n",
    "scaler.fit(X_train_dummies)\n",
    "X_train_scaled = scaler.transform(X_train_dummies)\n",
    "X_test_scaled = scaler.transform(X_test_dummies)"
   ]
  },
  {
   "cell_type": "code",
   "execution_count": 123,
   "metadata": {},
   "outputs": [
    {
     "name": "stdout",
     "output_type": "stream",
     "text": [
      "The training score is 0.7083743842364532 and the testing score is 0.7681837515950659\n"
     ]
    },
    {
     "name": "stderr",
     "output_type": "stream",
     "text": [
      "/opt/anaconda3/envs/bootcamp/lib/python3.6/site-packages/sklearn/linear_model/_logistic.py:765: ConvergenceWarning: lbfgs failed to converge (status=1):\n",
      "STOP: TOTAL NO. of ITERATIONS REACHED LIMIT.\n",
      "\n",
      "Increase the number of iterations (max_iter) or scale the data as shown in:\n",
      "    https://scikit-learn.org/stable/modules/preprocessing.html\n",
      "Please also refer to the documentation for alternative solver options:\n",
      "    https://scikit-learn.org/stable/modules/linear_model.html#logistic-regression\n",
      "  extra_warning_msg=_LOGISTIC_SOLVER_CONVERGENCE_MSG)\n"
     ]
    }
   ],
   "source": [
    "# Train the Logistic Regression model on the scaled data and print the model score\n",
    "lr_model.fit(X_train_scaled,y_train_label)\n",
    "train_score = lr_model.score(X_train_scaled,y_train_label)\n",
    "test_score = lr_model.score(X_test_scaled,y_test_label)\n",
    "print(f'The training score is {train_score} and the testing score is {test_score}')"
   ]
  },
  {
   "cell_type": "code",
   "execution_count": 124,
   "metadata": {},
   "outputs": [
    {
     "name": "stdout",
     "output_type": "stream",
     "text": [
      "The training score is 1.0 and the testing score is 0.6369629944704381\n"
     ]
    }
   ],
   "source": [
    "# Train a Random Forest Classifier model on the scaled data and print the model score\n",
    "rf_model.fit(X_train_scaled,y_train_label)\n",
    "train_score = rf_model.score(X_train_scaled,y_train_label)\n",
    "test_score = rf_model.score(X_test_scaled,y_test_label)\n",
    "print(f'The training score is {train_score} and the testing score is {test_score}')"
   ]
  },
  {
   "cell_type": "code",
   "execution_count": null,
   "metadata": {},
   "outputs": [],
   "source": []
  }
 ],
 "metadata": {
  "kernelspec": {
   "display_name": "Python 3",
   "language": "python",
   "name": "python3"
  },
  "language_info": {
   "codemirror_mode": {
    "name": "ipython",
    "version": 3
   },
   "file_extension": ".py",
   "mimetype": "text/x-python",
   "name": "python",
   "nbconvert_exporter": "python",
   "pygments_lexer": "ipython3",
   "version": "3.6.10"
  }
 },
 "nbformat": 4,
 "nbformat_minor": 4
}
